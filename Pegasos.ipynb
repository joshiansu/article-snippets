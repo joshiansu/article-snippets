{
  "nbformat": 4,
  "nbformat_minor": 0,
  "metadata": {
    "colab": {
      "provenance": [],
      "authorship_tag": "ABX9TyOtqbodAP4YBgDx5kCqkcct",
      "include_colab_link": true
    },
    "kernelspec": {
      "name": "python3",
      "display_name": "Python 3"
    },
    "language_info": {
      "name": "python"
    }
  },
  "cells": [
    {
      "cell_type": "markdown",
      "metadata": {
        "id": "view-in-github",
        "colab_type": "text"
      },
      "source": [
        "<a href=\"https://colab.research.google.com/github/joshiansu/article-snippets/blob/master/Pegasos.ipynb\" target=\"_parent\"><img src=\"https://colab.research.google.com/assets/colab-badge.svg\" alt=\"Open In Colab\"/></a>"
      ]
    },
    {
      "cell_type": "markdown",
      "source": [
        "HI!!! \n",
        "\n",
        "WELCOME TO PEGASOS ALGORITHM\n",
        "\n",
        "Contents :\n",
        "\n",
        "👨🏻‍🏫First cell\n",
        "- Experiment Class : Contains\n",
        "        - __init__\n",
        "        - pegasos : Algorithm implementation\n",
        "        - cosine_metrics : To check if algorithm is working\n",
        "        - cosine_check : validation step\n",
        "        - fwd_exp : Experiment function to perform experiments\n",
        "\n",
        "👨🏻‍🏫Second Cell\n",
        "- poly_func : Function to get data (Random data generation)\n",
        "\n",
        "👨🏻‍🏫Third Cell\n",
        "- Experimentation\n",
        "\n",
        "  - How it works\n",
        "      - Change epochs and lambda_param\n",
        "      - Run the cell\n",
        "      - Check if ground truth weights(m) and experiment weights(w) are coming close or not\n",
        "      - Do the above excercise with GT bias(c) and Pred bias(b)\n",
        "\n",
        "\n",
        "\n",
        "🐱Results:\n",
        "\n",
        "Epochs |\tlambda_param |\tAvg iter time(ms)\t|Total time(ms)\n",
        "\n",
        "1 |\t1 |\t1.530408859 |\t1.530408859\n",
        "\n",
        "\n",
        "1 |\t5 |\t1.981496811 |\t1.981496811\n",
        "\n",
        "1 |\t10 |\t1.479148865 |\t1.479148865\n",
        "\n",
        "5 |\t1 |\t0.3053665161 |\t1.526832581\n",
        "\n",
        "5 |\t5 |\t0.288105011 |\t1.440525055\n",
        "\n",
        "5 |\t10 |\t0.2956867218 |\t1.478433609\n",
        "\n",
        "10 |\t10 |\t0.1514196396 |\t1.514196396"
      ],
      "metadata": {
        "id": "sotAl_sbYd87"
      }
    },
    {
      "cell_type": "code",
      "execution_count": 54,
      "metadata": {
        "id": "-ojtb61AUFGq"
      },
      "outputs": [],
      "source": [
        "#Pegasos Algorithm\n",
        "\n",
        "import numpy as np\n",
        "\n",
        "class Experiment():\n",
        "    def __init__(self, epochs, lambda_param):\n",
        "        self.epochs = epochs\n",
        "        self.lambda_param = lambda_param\n",
        "\n",
        "    def pegasos(self, X, y, epochs, lambda_param):\n",
        "        m, n = X.shape\n",
        "        w = np.zeros(n)\n",
        "        b = 0\n",
        "        store_w = []\n",
        "        store_b = []\n",
        "        for t in range(1, epochs + 1):\n",
        "            # print(\"In EPOCH : {}\".format(t))\n",
        "            i = np.random.randint(m)\n",
        "            x_i, y_i = X[i], y[i]\n",
        "            # print(x_i, y_i)\n",
        "            if y_i * (np.dot(w, x_i) + b) < 1:\n",
        "                w = (1 - 1/t * lambda_param) * w + 1/lambda_param * y_i * x_i\n",
        "                b = b + y_i\n",
        "                # print(w, b)\n",
        "            else:\n",
        "                w = (1 - 1/t * lambda_param) * w\n",
        "                # print(w, b)\n",
        "            store_w.append(w)\n",
        "            store_b.append(b)\n",
        "        return w, b, store_w, store_b\n",
        "      \n",
        "    def cosine_metrics(self, arr1, arr2):\n",
        "        dot_product = np.dot(arr1, arr2.T)\n",
        "\n",
        "        # Calculate the norms of the arrays\n",
        "        norm1 = np.linalg.norm(arr1)\n",
        "        norm2 = np.linalg.norm(arr2)\n",
        "        # Calculate the cosine similarity\n",
        "        cosine_similarity = dot_product / (norm1 * norm2)\n",
        "\n",
        "        return np.linalg.norm(cosine_similarity)\n",
        "    \n",
        "    def cosine_check(self, store_w, m):\n",
        "        try:\n",
        "          store_cosine = []\n",
        "          for w in store_w:\n",
        "              store_cosine.append(self.cosine_metrics(w, m))\n",
        "        except:\n",
        "          pass\n",
        "        return store_cosine\n",
        "\n",
        "    def fwd_exp(self, X, y, m, c):\n",
        "        w, b, store_w, store_b = self.pegasos(X, y, self.epochs, self.lambda_param)\n",
        "        store_cosine = self.cosine_check(store_w, m)\n",
        "        return w, b, store_w, store_b, store_cosine\n"
      ]
    },
    {
      "cell_type": "code",
      "source": [
        "# Data Preparation\n",
        "\n",
        "def poly_func(X):\n",
        "  m = np.random.rand(X.shape[1])\n",
        "  c = np.random.rand(1)\n",
        "  # print(m)\n",
        "  # print(c)\n",
        "  y = np.dot(X, m) + c\n",
        "  return y, m, c\n",
        "\n",
        "X = np.random.rand(3, 4)\n",
        "y, m, c = poly_func(X)\n",
        "print(\"X :\", X)\n",
        "print(\"y :\", y)\n",
        "print(\"m :\", m)\n",
        "print(\"c :\", c)\n"
      ],
      "metadata": {
        "id": "i66P3KbJZnZD",
        "colab": {
          "base_uri": "https://localhost:8080/"
        },
        "outputId": "9882698b-6d48-45c0-a605-962bd5574913"
      },
      "execution_count": 58,
      "outputs": [
        {
          "output_type": "stream",
          "name": "stdout",
          "text": [
            "X : [[0.1672588  0.58760356 0.8373335  0.02784416]\n",
            " [0.45835336 0.04043766 0.91946249 0.45042764]\n",
            " [0.47535977 0.76357002 0.44157301 0.46444556]]\n",
            "y : [1.11994672 1.28281751 1.12733623]\n",
            "m : [0.11778381 0.41999957 0.98434173 0.65679573]\n",
            "c : [0.01094286]\n"
          ]
        }
      ]
    },
    {
      "cell_type": "code",
      "source": [
        "import time\n",
        "\n",
        "epochs = 20\n",
        "lambda_param = 10\n",
        "\n",
        "a = time.time()\n",
        "print(\"TIME REPORT ...\")\n",
        "time_taken = time.time()-a\n",
        "exp1 = Experiment(epochs, lambda_param)\n",
        "print(\"Epochs:\", exp1.epochs)\n",
        "w, b, store_w, store_b, store_cosine = exp1.fwd_exp(X, y, m , c)\n",
        "print(\"TOTAL TIME : {}ms\".format(time_taken*1000))\n",
        "print(\"AVG ITERATION TIME : {}ms\".format((time_taken/exp1.epochs)*1000))\n",
        "print(w, b)\n",
        "print(m, c)"
      ],
      "metadata": {
        "colab": {
          "base_uri": "https://localhost:8080/"
        },
        "id": "jSflKbzoPMcz",
        "outputId": "21051fcd-be26-44af-e679-2d65c16ebefb"
      },
      "execution_count": 84,
      "outputs": [
        {
          "output_type": "stream",
          "name": "stdout",
          "text": [
            "TIME REPORT ...\n",
            "Epochs: 20\n",
            "TOTAL TIME : 0.1513957977294922ms\n",
            "AVG ITERATION TIME : 0.007569789886474609ms\n",
            "[0. 0. 0. 0.] 3.3820086985351088\n",
            "[0.11778381 0.41999957 0.98434173 0.65679573] [0.01094286]\n"
          ]
        },
        {
          "output_type": "stream",
          "name": "stderr",
          "text": [
            "<ipython-input-54-3ec8aeb9ff42>:39: RuntimeWarning: invalid value encountered in double_scalars\n",
            "  cosine_similarity = dot_product / (norm1 * norm2)\n"
          ]
        }
      ]
    },
    {
      "cell_type": "code",
      "source": [
        "store_w"
      ],
      "metadata": {
        "colab": {
          "base_uri": "https://localhost:8080/"
        },
        "id": "YhrxICHmaKMt",
        "outputId": "5c2cfde9-6d51-4ac9-e84a-607e4486eac8"
      },
      "execution_count": 70,
      "outputs": [
        {
          "output_type": "execute_result",
          "data": {
            "text/plain": [
              "[array([0.11759674, 0.01037483, 0.23590052, 0.11556329]),\n",
              " array([-0.17639511, -0.01556224, -0.35385077, -0.17334494]),\n",
              " array([0.11759674, 0.01037483, 0.23590052, 0.11556329]),\n",
              " array([-0.02939919, -0.00259371, -0.05897513, -0.02889082]),\n",
              " array([-0., -0., -0., -0.])]"
            ]
          },
          "metadata": {},
          "execution_count": 70
        }
      ]
    },
    {
      "cell_type": "code",
      "source": [
        "store_b"
      ],
      "metadata": {
        "id": "JKmaoRyqjdgc",
        "colab": {
          "base_uri": "https://localhost:8080/"
        },
        "outputId": "52d10050-6ca4-46b3-e795-9d048c21508f"
      },
      "execution_count": 71,
      "outputs": [
        {
          "output_type": "execute_result",
          "data": {
            "text/plain": [
              "[1.282817509093661,\n",
              " 1.282817509093661,\n",
              " 1.282817509093661,\n",
              " 1.282817509093661,\n",
              " 1.282817509093661]"
            ]
          },
          "metadata": {},
          "execution_count": 71
        }
      ]
    },
    {
      "cell_type": "code",
      "source": [
        "store_cosine"
      ],
      "metadata": {
        "colab": {
          "base_uri": "https://localhost:8080/"
        },
        "id": "Eu319AQHXYlO",
        "outputId": "d5c70b74-a05a-424a-cd89-f7158b017a82"
      },
      "execution_count": 72,
      "outputs": [
        {
          "output_type": "execute_result",
          "data": {
            "text/plain": [
              "[0.8984164272742101,\n",
              " 0.8984164272742099,\n",
              " 0.8984164272742101,\n",
              " 0.8984164272742101,\n",
              " nan]"
            ]
          },
          "metadata": {},
          "execution_count": 72
        }
      ]
    },
    {
      "cell_type": "code",
      "source": [],
      "metadata": {
        "id": "bH1jTLxmXbvU"
      },
      "execution_count": null,
      "outputs": []
    }
  ]
}